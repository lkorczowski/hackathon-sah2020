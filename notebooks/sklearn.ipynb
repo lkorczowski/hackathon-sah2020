{
 "cells": [
  {
   "cell_type": "code",
   "execution_count": 1,
   "metadata": {},
   "outputs": [],
   "source": [
    "import os\n",
    "PATH = os.getcwd() \n",
    "import sys\n",
    "sys.path.append(PATH + '/../')"
   ]
  },
  {
   "cell_type": "markdown",
   "metadata": {
    "pycharm": {
     "name": "#%% md\n"
    }
   },
   "source": [
    "Load and visualize csv data with panda"
   ]
  },
  {
   "cell_type": "code",
   "execution_count": 2,
   "metadata": {
    "pycharm": {
     "is_executing": false,
     "name": "#%%\n"
    }
   },
   "outputs": [
    {
     "name": "stdout",
     "output_type": "stream",
     "text": [
      "Config loaded\n"
     ]
    }
   ],
   "source": [
    "from sklearn.datasets import fetch_20newsgroups\n",
    "from sklearn.feature_extraction.text import CountVectorizer, TfidfVectorizer\n",
    "from sklearn.decomposition import LatentDirichletAllocation\n",
    "import numpy as np\n",
    "import pandas as pd\n",
    "from utils.config import Config\n",
    "import pyLDAvis\n",
    "import pyLDAvis.sklearn as sklearnvis\n",
    "import pickle\n",
    "pyLDAvis.enable_notebook()\n",
    "\n",
    "print(\"Config loaded\")"
   ]
  },
  {
   "cell_type": "code",
   "execution_count": 3,
   "metadata": {
    "pycharm": {
     "is_executing": false,
     "name": "#%%\n"
    }
   },
   "outputs": [],
   "source": [
    "df = pd.read_csv(Config.csv_files[0], sep=';', encoding='ISO-8859-1')\n",
    "df.columns\n",
    "\n",
    "courriers=df[\"courrier\"]# this is what we should spare\n",
    "courriers_cleaned=[courrier for courrier in courriers if isinstance(courrier,str)]\n"
   ]
  },
  {
   "cell_type": "code",
   "execution_count": 4,
   "metadata": {},
   "outputs": [],
   "source": [
    "stop_words = Config.stop_words\n"
   ]
  },
  {
   "cell_type": "code",
   "execution_count": 5,
   "metadata": {
    "pycharm": {
     "is_executing": false,
     "name": "#%%\n"
    }
   },
   "outputs": [
    {
     "name": "stdout",
     "output_type": "stream",
     "text": [
      "(3, 283)\n"
     ]
    }
   ],
   "source": [
    "tf_vectorizer = CountVectorizer(encoding='ISO-8859-1',\n",
    "                                strip_accents = None,\n",
    "                                stop_words = stop_words,\n",
    "                                lowercase = True,\n",
    "                                token_pattern = r'\\b[a-zA-Z]{3,}\\b',\n",
    "                                max_df = 0.5, \n",
    "                                min_df = 1)\n",
    "dtm_tf = tf_vectorizer.fit_transform(courriers_cleaned)\n",
    "print(dtm_tf.shape)\n",
    "pickle.dump(tf_vectorizer, open('../data/tf_vectorizer.pk', 'wb'))\n",
    "pickle.dump(dtm_tf, open('../data/dtm_tf.pk', 'wb'))"
   ]
  },
  {
   "cell_type": "code",
   "execution_count": 6,
   "metadata": {
    "pycharm": {
     "name": "#%%\n"
    }
   },
   "outputs": [
    {
     "name": "stdout",
     "output_type": "stream",
     "text": [
      "(3, 283)\n"
     ]
    },
    {
     "name": "stderr",
     "output_type": "stream",
     "text": [
      "/home/morgan/.conda/envs/cleandata-env/lib/python3.7/site-packages/sklearn/feature_extraction/text.py:1817: UserWarning: Only (<class 'numpy.float64'>, <class 'numpy.float32'>, <class 'numpy.float16'>) 'dtype' should be used. <class 'numpy.int64'> 'dtype' will be converted to np.float64.\n",
      "  UserWarning)\n"
     ]
    }
   ],
   "source": [
    "tfidf_vectorizer = TfidfVectorizer(**tf_vectorizer.get_params())\n",
    "dtm_tfidf = tfidf_vectorizer.fit_transform(courriers_cleaned)\n",
    "print(dtm_tfidf.shape)\n",
    "pickle.dump(tfidf_vectorizer, open('../data/tfidf_vectorizer.pk', 'wb'))\n",
    "pickle.dump(dtm_tfidf, open('../data/dtm_tfidf.pk', 'wb'))"
   ]
  },
  {
   "cell_type": "code",
   "execution_count": null,
   "metadata": {},
   "outputs": [],
   "source": []
  },
  {
   "cell_type": "code",
   "execution_count": 7,
   "metadata": {
    "pycharm": {
     "name": "#%%\n"
    }
   },
   "outputs": [],
   "source": [
    "# for TF DTM\n",
    "lda_tf = LatentDirichletAllocation(n_components=3, random_state=0)\n",
    "lda_tf.fit(dtm_tf)\n",
    "pickle.dump(lda_tf, open('../data/lda_tf.pk', 'wb'))\n",
    "\n",
    "\n",
    "# for TFIDF DTM\n",
    "lda_tfidf = LatentDirichletAllocation(n_components=3, random_state=0)\n",
    "lda_tfidf.fit(dtm_tfidf)\n",
    "pickle.dump(lda_tf, open('../data/lda_tfidf.pk', 'wb'))"
   ]
  },
  {
   "cell_type": "code",
   "execution_count": 8,
   "metadata": {},
   "outputs": [
    {
     "data": {
      "text/html": [
       "\n",
       "<link rel=\"stylesheet\" type=\"text/css\" href=\"https://cdn.rawgit.com/bmabey/pyLDAvis/files/ldavis.v1.0.0.css\">\n",
       "\n",
       "\n",
       "<div id=\"ldavis_el130891402943432880166153815974\"></div>\n",
       "<script type=\"text/javascript\">\n",
       "\n",
       "var ldavis_el130891402943432880166153815974_data = {\"mdsDat\": {\"x\": [0.10770329269699233, -0.09852848693125876, -0.009174805765733589], \"y\": [-0.03627419905859824, -0.047448066536548324, 0.08372226559514659], \"topics\": [1, 2, 3], \"cluster\": [1, 1, 1], \"Freq\": [43.46360692946946, 37.385052638053764, 19.151340432476776]}, \"tinfo\": {\"Term\": [\"pulsatiles\", \"mme\", \"recherche\", \"sachant\", \"responsable\", \"faire\", \"interet\", \"initialement\", \"informera\", \"situent\", \"hypertension\", \"souffle\", \"fistule\", \"explorations\", \"jugulaires\", \"suite\", \"durale\", \"douleurs\", \"survenue\", \"deux\", \"synchrones\", \"contexte\", \"conditions\", \"compression\", \"irm\", \"mail\", \"lors\", \"charge\", \"professeur\", \"prochainement\", \"responsable\", \"sachant\", \"heures\", \"source\", \"diurne\", \"dont\", \"serait\", \"place\", \"revois\", \"mise\", \"temps\", \"mieux\", \"quant\", \"nasacort\", \"notamment\", \"nuit\", \"premier\", \"oreille\", \"tanakan\", \"exister\", \"auditif\", \"toujours\", \"vis\", \"vertiges\", \"agenda\", \"vers\", \"ceci\", \"matin\", \"aggravation\", \"mis\", \"retrouve\", \"forte\", \"loche\", \"assez\", \"nos\", \"importante\", \"point\", \"polygraphique\", \"travail\", \"cabinet\", \"pratique\", \"ventilatoire\", \"ont\", \"prendre\", \"jeux\", \"origine\", \"orthodontique\", \"patient\", \"cervico\", \"orthoptique\", \"occlusodontiste\", \"partielle\", \"obtenir\", \"partir\", \"casque\", \"pente\", \"permanents\", \"envisager\", \"peuvent\", \"pneumologues\", \"modulant\", \"chu\", \"pratiquer\", \"continue\", \"blanc\", \"conversationnelles\", \"licite\", \"notion\", \"profession\", \"pourrions\", \"protection\", \"culminant\", \"inhibition\", \"rapidement\", \"pulsatiles\", \"mme\", \"recherche\", \"prochainement\", \"explorations\", \"avons\", \"otospongiose\", \"otologique\", \"auscultation\", \"ressentis\", \"had\", \"rochers\", \"audioprothetique\", \"informera\", \"scanner\", \"compression\", \"initialement\", \"conditions\", \"battement\", \"radiologue\", \"contexte\", \"pression\", \"hypertension\", \"charge\", \"cher\", \"permanence\", \"carotides\", \"cardiaque\", \"prise\", \"quinzaine\", \"neuroradiologue\", \"minor\", \"mars\", \"mail\", \"lors\", \"jugulaires\", \"irm\", \"interet\", \"patiente\", \"pathologie\", \"brutalement\", \"cervicale\"], \"Freq\": [1.0, 1.0, 1.0, 2.0, 2.0, 0.0, 0.0, 0.0, 0.0, 0.0, 0.0, 0.0, 0.0, 0.0, 0.0, 0.0, 0.0, 0.0, 0.0, 0.0, 0.0, 0.0, 0.0, 0.0, 0.0, 0.0, 0.0, 0.0, 0.0, 0.0, 2.008350176221319, 2.008350176221319, 1.4058378319433769, 1.4058378319433769, 1.4058378319433769, 1.4058378319433769, 1.4058378319433769, 1.4058378319433769, 1.4058378319433769, 1.4058378319433769, 1.4058378319433769, 1.4058378319433769, 1.4058378319433769, 1.4058378319433769, 1.4058378319433769, 1.4058378319433769, 1.4058378319433769, 1.4058378319433769, 1.4058378319433769, 1.4058378319433769, 1.4058378319433769, 1.4058378319433769, 1.4058378319433769, 1.4058378319433769, 1.4058378319433769, 1.4058378319433769, 0.8033246646263785, 0.8033246646263785, 0.8033246646263785, 0.8033246646263785, 1.320501972787149, 1.320501972787149, 1.320501972787149, 1.320501972787149, 1.320501972787149, 1.320501972787149, 1.320501972787149, 1.320501972787149, 1.320501972787149, 1.320501972787149, 1.320501972787149, 1.320501972787149, 1.320501972787149, 1.320501972787149, 1.320501972787149, 0.7545617184797299, 0.7545617184797299, 0.7545617184797299, 0.7545617184797299, 0.7545617184797299, 0.7545617184797299, 0.7545617184797299, 0.7545617184797299, 0.7545617184797299, 0.7545617184797299, 0.7545617184797299, 0.7545617184797299, 0.7545617184797299, 0.7545617184797299, 0.7545617184797299, 0.7545617184797299, 0.7545617184797299, 0.7545617184797299, 0.7545617184797299, 0.7545617184797299, 0.7545617184797299, 0.7545617184797299, 0.7545617184797299, 0.7545617184797299, 0.7545617184797299, 0.7545617184797299, 0.7545617184797299, 0.7545617184797299, 0.7545617184797299, 0.9344063199192727, 0.9344063199192727, 0.9344063199192727, 0.533937508997433, 0.533937508997433, 0.533937508997433, 0.533937508997433, 0.533937508997433, 0.533937508997433, 0.533937508997433, 0.533937508997433, 0.533937508997433, 0.533937508997433, 0.533937508997433, 0.533937508997433, 0.533937508997433, 0.533937508997433, 0.533937508997433, 0.533937508997433, 0.533937508997433, 0.533937508997433, 0.533937508997433, 0.533937508997433, 0.533937508997433, 0.533937508997433, 0.533937508997433, 0.533937508997433, 0.533937508997433, 0.533937508997433, 0.533937508997433, 0.533937508997433, 0.533937508997433, 0.533937508997433, 0.533937508997433, 0.533937508997433, 0.533937508997433, 0.533937508997433, 0.533937508997433, 0.533937508997433, 0.533937508997433, 0.533937508997433, 0.533937508997433], \"Total\": [1.0, 1.0, 1.0, 2.0, 2.0, 0.0, 0.0, 0.0, 0.0, 0.0, 0.0, 0.0, 0.0, 0.0, 0.0, 0.0, 0.0, 0.0, 0.0, 0.0, 0.0, 0.0, 0.0, 0.0, 0.0, 0.0, 0.0, 0.0, 0.0, 0.0, 2.3305033123620986, 2.3305033123620986, 1.7279913789698267, 1.7279913789698267, 1.7279913789698267, 1.7279913789698267, 1.7279913789698267, 1.7279913789698267, 1.7279913789698267, 1.7279913789698267, 1.7279913789698267, 1.7279913789698267, 1.7279913789698267, 1.7279913789698267, 1.7279913789698267, 1.7279913789698267, 1.7279913789698267, 1.7279913789698267, 1.7279913789698267, 1.7279913789698267, 1.7279913789698267, 1.7279913789698267, 1.7279913789698267, 1.7279913789698267, 1.7279913789698267, 1.7279913789698267, 1.1254792640238813, 1.1254792640238813, 1.1254792640238813, 1.1254792640238813, 1.654847380456551, 1.654847380456551, 1.654847380456551, 1.654847380456551, 1.654847380456551, 1.654847380456551, 1.654847380456551, 1.654847380456551, 1.654847380456551, 1.654847380456551, 1.654847380456551, 1.654847380456551, 1.654847380456551, 1.654847380456551, 1.654847380456551, 1.0889082315267555, 1.0889082315267555, 1.0889082315267555, 1.0889082315267555, 1.0889082315267555, 1.0889082315267555, 1.0889082315267555, 1.0889082315267555, 1.0889082315267555, 1.0889082315267555, 1.0889082315267555, 1.0889082315267555, 1.0889082315267555, 1.0889082315267555, 1.0889082315267555, 1.0889082315267555, 1.0889082315267555, 1.0889082315267555, 1.0889082315267555, 1.0889082315267555, 1.0889082315267555, 1.0889082315267555, 1.0889082315267555, 1.0889082315267555, 1.0889082315267555, 1.0889082315267555, 1.0889082315267555, 1.0889082315267555, 1.0889082315267555, 1.3239167064176156, 1.3239167064176156, 1.3239167064176156, 0.9234494635751777, 0.9234494635751777, 0.9234494635751777, 0.9234494635751777, 0.9234494635751777, 0.9234494635751777, 0.9234494635751777, 0.9234494635751777, 0.9234494635751777, 0.9234494635751777, 0.9234494635751777, 0.9234494635751777, 0.9234494635751777, 0.9234494635751777, 0.9234494635751777, 0.9234494635751777, 0.9234494635751777, 0.9234494635751777, 0.9234494635751777, 0.9234494635751777, 0.9234494635751777, 0.9234494635751777, 0.9234494635751777, 0.9234494635751777, 0.9234494635751777, 0.9234494635751777, 0.9234494635751777, 0.9234494635751777, 0.9234494635751777, 0.9234494635751777, 0.9234494635751777, 0.9234494635751777, 0.9234494635751777, 0.9234494635751777, 0.9234494635751777, 0.9234494635751777, 0.9234494635751777, 0.9234494635751777, 0.9234494635751777], \"Category\": [\"Default\", \"Default\", \"Default\", \"Default\", \"Default\", \"Default\", \"Default\", \"Default\", \"Default\", \"Default\", \"Default\", \"Default\", \"Default\", \"Default\", \"Default\", \"Default\", \"Default\", \"Default\", \"Default\", \"Default\", \"Default\", \"Default\", \"Default\", \"Default\", \"Default\", \"Default\", \"Default\", \"Default\", \"Default\", \"Default\", \"Topic1\", \"Topic1\", \"Topic1\", \"Topic1\", \"Topic1\", \"Topic1\", \"Topic1\", \"Topic1\", \"Topic1\", \"Topic1\", \"Topic1\", \"Topic1\", \"Topic1\", \"Topic1\", \"Topic1\", \"Topic1\", \"Topic1\", \"Topic1\", \"Topic1\", \"Topic1\", \"Topic1\", \"Topic1\", \"Topic1\", \"Topic1\", \"Topic1\", \"Topic1\", \"Topic1\", \"Topic1\", \"Topic1\", \"Topic1\", \"Topic2\", \"Topic2\", \"Topic2\", \"Topic2\", \"Topic2\", \"Topic2\", \"Topic2\", \"Topic2\", \"Topic2\", \"Topic2\", \"Topic2\", \"Topic2\", \"Topic2\", \"Topic2\", \"Topic2\", \"Topic2\", \"Topic2\", \"Topic2\", \"Topic2\", \"Topic2\", \"Topic2\", \"Topic2\", \"Topic2\", \"Topic2\", \"Topic2\", \"Topic2\", \"Topic2\", \"Topic2\", \"Topic2\", \"Topic2\", \"Topic2\", \"Topic2\", \"Topic2\", \"Topic2\", \"Topic2\", \"Topic2\", \"Topic2\", \"Topic2\", \"Topic2\", \"Topic2\", \"Topic2\", \"Topic2\", \"Topic2\", \"Topic2\", \"Topic3\", \"Topic3\", \"Topic3\", \"Topic3\", \"Topic3\", \"Topic3\", \"Topic3\", \"Topic3\", \"Topic3\", \"Topic3\", \"Topic3\", \"Topic3\", \"Topic3\", \"Topic3\", \"Topic3\", \"Topic3\", \"Topic3\", \"Topic3\", \"Topic3\", \"Topic3\", \"Topic3\", \"Topic3\", \"Topic3\", \"Topic3\", \"Topic3\", \"Topic3\", \"Topic3\", \"Topic3\", \"Topic3\", \"Topic3\", \"Topic3\", \"Topic3\", \"Topic3\", \"Topic3\", \"Topic3\", \"Topic3\", \"Topic3\", \"Topic3\", \"Topic3\", \"Topic3\", \"Topic3\", \"Topic3\"], \"logprob\": [30.0, 29.0, 28.0, 27.0, 26.0, 25.0, 24.0, 23.0, 22.0, 21.0, 20.0, 19.0, 18.0, 17.0, 16.0, 15.0, 14.0, 13.0, 12.0, 11.0, 10.0, 9.0, 8.0, 7.0, 6.0, 5.0, 4.0, 3.0, 2.0, 1.0, -4.2655, -4.2655, -4.6222, -4.6222, -4.6222, -4.6222, -4.6222, -4.6222, -4.6222, -4.6222, -4.6222, -4.6222, -4.6222, -4.6222, -4.6222, -4.6222, -4.6222, -4.6222, -4.6222, -4.6222, -4.6222, -4.6222, -4.6222, -4.6222, -4.6222, -4.6222, -5.1818, -5.1818, -5.1818, -5.1818, -4.5341, -4.5341, -4.5341, -4.5341, -4.5341, -4.5341, -4.5341, -4.5341, -4.5341, -4.5341, -4.5341, -4.5341, -4.5341, -4.5341, -4.5341, -5.0938, -5.0938, -5.0938, -5.0938, -5.0938, -5.0938, -5.0938, -5.0938, -5.0938, -5.0938, -5.0938, -5.0938, -5.0938, -5.0938, -5.0938, -5.0938, -5.0938, -5.0938, -5.0938, -5.0938, -5.0938, -5.0938, -5.0938, -5.0938, -5.0938, -5.0938, -5.0938, -5.0938, -5.0938, -4.2111, -4.2111, -4.2111, -4.7707, -4.7707, -4.7707, -4.7707, -4.7707, -4.7707, -4.7707, -4.7707, -4.7707, -4.7707, -4.7707, -4.7707, -4.7707, -4.7707, -4.7707, -4.7707, -4.7707, -4.7707, -4.7707, -4.7707, -4.7707, -4.7707, -4.7707, -4.7707, -4.7707, -4.7707, -4.7707, -4.7707, -4.7707, -4.7707, -4.7707, -4.7707, -4.7707, -4.7707, -4.7707, -4.7707, -4.7707, -4.7707, -4.7707], \"loglift\": [30.0, 29.0, 28.0, 27.0, 26.0, 25.0, 24.0, 23.0, 22.0, 21.0, 20.0, 19.0, 18.0, 17.0, 16.0, 15.0, 14.0, 13.0, 12.0, 11.0, 10.0, 9.0, 8.0, 7.0, 6.0, 5.0, 4.0, 3.0, 2.0, 1.0, 0.6845, 0.6845, 0.6269, 0.6269, 0.6269, 0.6269, 0.6269, 0.6269, 0.6269, 0.6269, 0.6269, 0.6269, 0.6269, 0.6269, 0.6269, 0.6269, 0.6269, 0.6269, 0.6269, 0.6269, 0.6269, 0.6269, 0.6269, 0.6269, 0.6269, 0.6269, 0.496, 0.496, 0.496, 0.496, 0.7582, 0.7582, 0.7582, 0.7582, 0.7582, 0.7582, 0.7582, 0.7582, 0.7582, 0.7582, 0.7582, 0.7582, 0.7582, 0.7582, 0.7582, 0.6171, 0.6171, 0.6171, 0.6171, 0.6171, 0.6171, 0.6171, 0.6171, 0.6171, 0.6171, 0.6171, 0.6171, 0.6171, 0.6171, 0.6171, 0.6171, 0.6171, 0.6171, 0.6171, 0.6171, 0.6171, 0.6171, 0.6171, 0.6171, 0.6171, 0.6171, 0.6171, 0.6171, 0.6171, 1.3044, 1.3044, 1.3044, 1.105, 1.105, 1.105, 1.105, 1.105, 1.105, 1.105, 1.105, 1.105, 1.105, 1.105, 1.105, 1.105, 1.105, 1.105, 1.105, 1.105, 1.105, 1.105, 1.105, 1.105, 1.105, 1.105, 1.105, 1.105, 1.105, 1.105, 1.105, 1.105, 1.105, 1.105, 1.105, 1.105, 1.105, 1.105, 1.105, 1.105, 1.105, 1.105]}, \"token.table\": {\"Topic\": [1, 1, 2, 3, 1, 3, 3, 3, 2, 3, 2, 3, 3, 2, 1, 3, 2, 3, 3, 2, 3, 3, 3, 2, 2, 2, 3, 1, 1, 3, 3, 2, 1, 3, 3, 3, 2, 3, 1, 3, 2, 3, 2, 3, 3, 3, 2, 3, 2, 2, 3, 3, 3, 1, 1, 3, 1, 1, 3, 2, 1, 3, 2, 1, 2, 1, 2, 2, 2, 1, 2, 2, 2, 3, 3, 2, 2, 3, 2, 3, 2, 3, 2, 2, 1, 2, 2, 2, 2, 2, 2, 1, 2, 3, 3, 3, 3, 2, 2, 3, 1, 3, 3, 2, 3, 1, 3, 2, 1, 3, 1, 3, 1, 3, 3, 1, 3, 3, 3, 1, 1, 1, 2, 2, 1, 1, 1], \"Freq\": [0.5787065908836698, 0.8885103723943698, 0.6042853327804241, 1.0828962920487857, 0.5787065908836698, 1.0828962920487857, 1.0828962920487857, 1.0828962920487857, 0.9183510336751725, 1.0828962920487857, 0.6042853327804241, 1.0828962920487857, 1.0828962920487857, 0.9183510336751725, 0.8885103723943698, 1.0828962920487857, 0.9183510336751725, 1.0828962920487857, 1.0828962920487857, 0.9183510336751725, 1.0828962920487857, 1.0828962920487857, 1.0828962920487857, 0.9183510336751725, 0.9183510336751725, 0.9183510336751725, 1.0828962920487857, 0.5787065908836698, 0.5787065908836698, 1.0828962920487857, 1.0828962920487857, 0.9183510336751725, 0.5787065908836698, 1.0828962920487857, 1.0828962920487857, 1.0828962920487857, 0.6042853327804241, 1.0828962920487857, 0.5787065908836698, 1.0828962920487857, 0.6042853327804241, 1.0828962920487857, 0.9183510336751725, 1.0828962920487857, 1.0828962920487857, 1.0828962920487857, 0.6042853327804241, 1.0828962920487857, 0.9183510336751725, 0.6042853327804241, 1.0828962920487857, 1.0828962920487857, 1.0828962920487857, 0.8885103723943698, 0.5787065908836698, 1.0828962920487857, 0.8885103723943698, 0.5787065908836698, 0.7553345275821004, 0.9183510336751725, 0.5787065908836698, 1.0828962920487857, 0.6042853327804241, 0.5787065908836698, 0.9183510336751725, 0.5787065908836698, 0.9183510336751725, 0.9183510336751725, 0.6042853327804241, 0.5787065908836698, 0.9183510336751725, 0.9183510336751725, 0.9183510336751725, 1.0828962920487857, 1.0828962920487857, 0.9183510336751725, 0.9183510336751725, 1.0828962920487857, 0.9183510336751725, 1.0828962920487857, 0.9183510336751725, 1.0828962920487857, 0.9183510336751725, 0.9183510336751725, 0.5787065908836698, 0.9183510336751725, 0.6042853327804241, 0.6042853327804241, 0.9183510336751725, 0.6042853327804241, 0.9183510336751725, 0.5787065908836698, 0.6042853327804241, 1.0828962920487857, 1.0828962920487857, 1.0828962920487857, 1.0828962920487857, 0.9183510336751725, 0.9183510336751725, 0.7553345275821004, 0.5787065908836698, 1.0828962920487857, 1.0828962920487857, 0.9183510336751725, 0.7553345275821004, 0.8581837191095366, 1.0828962920487857, 0.6042853327804241, 0.5787065908836698, 1.0828962920487857, 0.8581837191095366, 1.0828962920487857, 0.5787065908836698, 1.0828962920487857, 1.0828962920487857, 0.5787065908836698, 1.0828962920487857, 1.0828962920487857, 1.0828962920487857, 0.5787065908836698, 0.5787065908836698, 0.5787065908836698, 0.6042853327804241, 0.6042853327804241, 0.5787065908836698, 0.5787065908836698, 0.5787065908836698], \"Term\": [\"agenda\", \"aggravation\", \"assez\", \"audioprothetique\", \"auditif\", \"auscultation\", \"avons\", \"battement\", \"blanc\", \"brutalement\", \"cabinet\", \"cardiaque\", \"carotides\", \"casque\", \"ceci\", \"cervicale\", \"cervico\", \"charge\", \"cher\", \"chu\", \"compression\", \"conditions\", \"contexte\", \"continue\", \"conversationnelles\", \"culminant\", \"deux\", \"diurne\", \"dont\", \"douleurs\", \"durale\", \"envisager\", \"exister\", \"explorations\", \"faire\", \"fistule\", \"forte\", \"had\", \"heures\", \"hypertension\", \"importante\", \"informera\", \"inhibition\", \"initialement\", \"interet\", \"irm\", \"jeux\", \"jugulaires\", \"licite\", \"loche\", \"lors\", \"mail\", \"mars\", \"matin\", \"mieux\", \"minor\", \"mis\", \"mise\", \"mme\", \"modulant\", \"nasacort\", \"neuroradiologue\", \"nos\", \"notamment\", \"notion\", \"nuit\", \"obtenir\", \"occlusodontiste\", \"ont\", \"oreille\", \"origine\", \"orthodontique\", \"orthoptique\", \"otologique\", \"otospongiose\", \"partielle\", \"partir\", \"pathologie\", \"patient\", \"patiente\", \"pente\", \"permanence\", \"permanents\", \"peuvent\", \"place\", \"pneumologues\", \"point\", \"polygraphique\", \"pourrions\", \"pratique\", \"pratiquer\", \"premier\", \"prendre\", \"pression\", \"prise\", \"prochainement\", \"professeur\", \"profession\", \"protection\", \"pulsatiles\", \"quant\", \"quinzaine\", \"radiologue\", \"rapidement\", \"recherche\", \"responsable\", \"ressentis\", \"retrouve\", \"revois\", \"rochers\", \"sachant\", \"scanner\", \"serait\", \"situent\", \"souffle\", \"source\", \"suite\", \"survenue\", \"synchrones\", \"tanakan\", \"temps\", \"toujours\", \"travail\", \"ventilatoire\", \"vers\", \"vertiges\", \"vis\"]}, \"R\": 30, \"lambda.step\": 0.01, \"plot.opts\": {\"xlab\": \"PC1\", \"ylab\": \"PC2\"}, \"topic.order\": [1, 2, 3]};\n",
       "\n",
       "function LDAvis_load_lib(url, callback){\n",
       "  var s = document.createElement('script');\n",
       "  s.src = url;\n",
       "  s.async = true;\n",
       "  s.onreadystatechange = s.onload = callback;\n",
       "  s.onerror = function(){console.warn(\"failed to load library \" + url);};\n",
       "  document.getElementsByTagName(\"head\")[0].appendChild(s);\n",
       "}\n",
       "\n",
       "if(typeof(LDAvis) !== \"undefined\"){\n",
       "   // already loaded: just create the visualization\n",
       "   !function(LDAvis){\n",
       "       new LDAvis(\"#\" + \"ldavis_el130891402943432880166153815974\", ldavis_el130891402943432880166153815974_data);\n",
       "   }(LDAvis);\n",
       "}else if(typeof define === \"function\" && define.amd){\n",
       "   // require.js is available: use it to load d3/LDAvis\n",
       "   require.config({paths: {d3: \"https://cdnjs.cloudflare.com/ajax/libs/d3/3.5.5/d3.min\"}});\n",
       "   require([\"d3\"], function(d3){\n",
       "      window.d3 = d3;\n",
       "      LDAvis_load_lib(\"https://cdn.rawgit.com/bmabey/pyLDAvis/files/ldavis.v1.0.0.js\", function(){\n",
       "        new LDAvis(\"#\" + \"ldavis_el130891402943432880166153815974\", ldavis_el130891402943432880166153815974_data);\n",
       "      });\n",
       "    });\n",
       "}else{\n",
       "    // require.js not available: dynamically load d3 & LDAvis\n",
       "    LDAvis_load_lib(\"https://cdnjs.cloudflare.com/ajax/libs/d3/3.5.5/d3.min.js\", function(){\n",
       "         LDAvis_load_lib(\"https://cdn.rawgit.com/bmabey/pyLDAvis/files/ldavis.v1.0.0.js\", function(){\n",
       "                 new LDAvis(\"#\" + \"ldavis_el130891402943432880166153815974\", ldavis_el130891402943432880166153815974_data);\n",
       "            })\n",
       "         });\n",
       "}\n",
       "</script>"
      ],
      "text/plain": [
       "<IPython.core.display.HTML object>"
      ]
     },
     "execution_count": 8,
     "metadata": {},
     "output_type": "execute_result"
    }
   ],
   "source": [
    "lda_tf = pickle.load( open('../data/lda_tf.pk', \"rb\" ) )\n",
    "tf_vectorizer = pickle.load( open('../data/tf_vectorizer.pk', \"rb\" ) )\n",
    "dtm_tf = pickle.load( open('../data/dtm_tf.pk', \"rb\" ) )\n",
    "vis_data = sklearnvis.prepare(lda_tf, dtm_tf, tf_vectorizer)\n",
    "pyLDAvis.display(vis_data)\n"
   ]
  },
  {
   "cell_type": "code",
   "execution_count": 9,
   "metadata": {
    "pycharm": {
     "name": "#%%\n"
    }
   },
   "outputs": [
    {
     "data": {
      "text/html": [
       "\n",
       "<link rel=\"stylesheet\" type=\"text/css\" href=\"https://cdn.rawgit.com/bmabey/pyLDAvis/files/ldavis.v1.0.0.css\">\n",
       "\n",
       "\n",
       "<div id=\"ldavis_el130891402942991644964216785243\"></div>\n",
       "<script type=\"text/javascript\">\n",
       "\n",
       "var ldavis_el130891402942991644964216785243_data = {\"mdsDat\": {\"x\": [0.10770329269699233, -0.09852848693125876, -0.009174805765733589], \"y\": [-0.03627419905859824, -0.047448066536548324, 0.08372226559514659], \"topics\": [1, 2, 3], \"cluster\": [1, 1, 1], \"Freq\": [36.37364664730509, 36.04168949926038, 27.58466385343453]}, \"tinfo\": {\"Term\": [\"pulsatiles\", \"mme\", \"recherche\", \"sachant\", \"responsable\", \"ventilatoire\", \"loche\", \"jeux\", \"travail\", \"retrouve\", \"importante\", \"nos\", \"ont\", \"forte\", \"assez\", \"prendre\", \"point\", \"pratique\", \"polygraphique\", \"cabinet\", \"hypertension\", \"jugulaires\", \"explorations\", \"souffle\", \"situent\", \"faire\", \"informera\", \"suite\", \"initialement\", \"durale\", \"responsable\", \"sachant\", \"heures\", \"source\", \"diurne\", \"dont\", \"serait\", \"place\", \"revois\", \"mise\", \"temps\", \"mieux\", \"quant\", \"nasacort\", \"notamment\", \"nuit\", \"premier\", \"oreille\", \"tanakan\", \"exister\", \"auditif\", \"toujours\", \"vis\", \"vertiges\", \"agenda\", \"vers\", \"ceci\", \"matin\", \"aggravation\", \"mis\", \"loche\", \"polygraphique\", \"forte\", \"nos\", \"assez\", \"ont\", \"pratique\", \"retrouve\", \"travail\", \"prendre\", \"importante\", \"cabinet\", \"ventilatoire\", \"jeux\", \"point\", \"douloureux\", \"peuvent\", \"douleur\", \"droit\", \"permanents\", \"enfant\", \"pneumologues\", \"pente\", \"pourrait\", \"dizaine\", \"possiblement\", \"patient\", \"pourrions\", \"pratiquer\", \"culminant\", \"modulant\", \"chu\", \"continue\", \"cervico\", \"blanc\", \"conversationnelles\", \"licite\", \"notion\", \"profession\", \"protection\", \"inhibition\", \"rapidement\", \"mme\", \"recherche\", \"pulsatiles\", \"irm\", \"jugulaires\", \"rochers\", \"scanner\", \"contexte\", \"conditions\", \"lors\", \"douleurs\", \"ressentis\", \"mail\", \"mars\", \"had\", \"cher\", \"charge\", \"permanence\", \"compression\", \"deux\", \"souffle\", \"interet\", \"durale\", \"initialement\", \"informera\", \"explorations\", \"faire\", \"radiologue\", \"quinzaine\", \"fistule\", \"carotides\", \"neuroradiologue\", \"audioprothetique\", \"minor\", \"auscultation\", \"cardiaque\", \"patiente\", \"pathologie\", \"otospongiose\", \"otologique\", \"brutalement\", \"cervicale\"], \"Freq\": [0.0, 0.0, 0.0, 0.0, 0.0, 0.0, 0.0, 0.0, 0.0, 0.0, 0.0, 0.0, 0.0, 0.0, 0.0, 0.0, 0.0, 0.0, 0.0, 0.0, 0.0, 0.0, 0.0, 0.0, 0.0, 0.0, 0.0, 0.0, 0.0, 0.0, 0.14081893945845733, 0.14081893945845733, 0.09857274637101299, 0.09857274637101299, 0.09857274637101299, 0.09857274637101299, 0.09857274637101299, 0.09857274637101299, 0.09857274637101299, 0.09857274637101299, 0.09857274637101299, 0.09857274637101299, 0.09857274637101299, 0.09857274637101299, 0.09857274637101299, 0.09857274637101299, 0.09857274637101299, 0.09857274637101299, 0.09857274637101299, 0.09857274637101299, 0.09857274637101299, 0.09857274637101299, 0.09857274637101299, 0.09857274637101299, 0.09857274637101299, 0.09857274637101299, 0.056326495574764456, 0.056326495574764456, 0.056326495574764456, 0.056326495574764456, 0.10666126993207405, 0.10666126993207405, 0.10666126993207405, 0.10666126993207405, 0.10666126993207405, 0.10666126993207405, 0.10666126993207405, 0.10666126993207405, 0.10666126993207405, 0.10666126993207405, 0.10666126993207405, 0.10666126993207405, 0.10666126993207405, 0.10666126993207405, 0.10666126993207405, 0.060948421731853844, 0.060948421731853844, 0.060948421731853844, 0.060948421731853844, 0.060948421731853844, 0.060948421731853844, 0.060948421731853844, 0.060948421731853844, 0.060948421731853844, 0.060948421731853844, 0.060948421731853844, 0.060948421731853844, 0.060948421731853844, 0.060948421731853844, 0.060948421731853844, 0.060948421731853844, 0.060948421731853844, 0.060948421731853844, 0.060948421731853844, 0.060948421731853844, 0.060948421731853844, 0.060948421731853844, 0.060948421731853844, 0.060948421731853844, 0.060948421731853844, 0.060948421731853844, 0.060948421731853844, 0.11276253698019434, 0.11276253698019434, 0.11276253698019434, 0.06443465419694241, 0.06443465419694241, 0.06443465419694241, 0.06443465419694241, 0.06443465419694241, 0.06443465419694241, 0.06443465419694241, 0.06443465419694241, 0.06443465419694241, 0.06443465419694241, 0.06443465419694241, 0.06443465419694241, 0.06443465419694241, 0.06443465419694241, 0.06443465419694241, 0.06443465419694241, 0.06443465419694241, 0.06443465419694241, 0.06443465419694241, 0.06443465419694241, 0.06443465419694241, 0.06443465419694241, 0.06443465419694241, 0.06443465419694241, 0.06443465419694241, 0.06443465419694241, 0.06443465419694241, 0.06443465419694241, 0.06443465419694241, 0.06443465419694241, 0.06443465419694241, 0.06443465419694241, 0.06443465419694241, 0.06443465419694241, 0.06443465419694241, 0.06443465419694241, 0.06443465419694241, 0.06443465419694241, 0.06443465419694241], \"Total\": [0.0, 0.0, 0.0, 0.0, 0.0, 0.0, 0.0, 0.0, 0.0, 0.0, 0.0, 0.0, 0.0, 0.0, 0.0, 0.0, 0.0, 0.0, 0.0, 0.0, 0.0, 0.0, 0.0, 0.0, 0.0, 0.0, 0.0, 0.0, 0.0, 0.0, 0.17216753908682264, 0.17216753908682264, 0.12992138732830735, 0.12992138732830735, 0.12992138732830735, 0.12992138732830735, 0.12992138732830735, 0.12992138732830735, 0.12992138732830735, 0.12992138732830735, 0.12992138732830735, 0.12992138732830735, 0.12992138732830735, 0.12992138732830735, 0.12992138732830735, 0.12992138732830735, 0.12992138732830735, 0.12992138732830735, 0.12992138732830735, 0.12992138732830735, 0.12992138732830735, 0.12992138732830735, 0.12992138732830735, 0.12992138732830735, 0.12992138732830735, 0.12992138732830735, 0.08767524238483984, 0.08767524238483984, 0.08767524238483984, 0.08767524238483984, 0.136854378192407, 0.136854378192407, 0.136854378192407, 0.136854378192407, 0.136854378192407, 0.136854378192407, 0.136854378192407, 0.136854378192407, 0.136854378192407, 0.136854378192407, 0.136854378192407, 0.136854378192407, 0.136854378192407, 0.136854378192407, 0.136854378192407, 0.09114163562824965, 0.09114163562824965, 0.09114163562824965, 0.09114163562824965, 0.09114163562824965, 0.09114163562824965, 0.09114163562824965, 0.09114163562824965, 0.09114163562824965, 0.09114163562824965, 0.09114163562824965, 0.09114163562824965, 0.09114163562824965, 0.09114163562824965, 0.09114163562824965, 0.09114163562824965, 0.09114163562824965, 0.09114163562824965, 0.09114163562824965, 0.09114163562824965, 0.09114163562824965, 0.09114163562824965, 0.09114163562824965, 0.09114163562824965, 0.09114163562824965, 0.09114163562824965, 0.09114163562824965, 0.142084193631726, 0.142084193631726, 0.142084193631726, 0.09375642926481184, 0.09375642926481184, 0.09375642926481184, 0.09375642926481184, 0.09375642926481184, 0.09375642926481184, 0.09375642926481184, 0.09375642926481184, 0.09375642926481184, 0.09375642926481184, 0.09375642926481184, 0.09375642926481184, 0.09375642926481184, 0.09375642926481184, 0.09375642926481184, 0.09375642926481184, 0.09375642926481184, 0.09375642926481184, 0.09375642926481184, 0.09375642926481184, 0.09375642926481184, 0.09375642926481184, 0.09375642926481184, 0.09375642926481184, 0.09375642926481184, 0.09375642926481184, 0.09375642926481184, 0.09375642926481184, 0.09375642926481184, 0.09375642926481184, 0.09375642926481184, 0.09375642926481184, 0.09375642926481184, 0.09375642926481184, 0.09375642926481184, 0.09375642926481184, 0.09375642926481184, 0.09375642926481184, 0.09375642926481184], \"Category\": [\"Default\", \"Default\", \"Default\", \"Default\", \"Default\", \"Default\", \"Default\", \"Default\", \"Default\", \"Default\", \"Default\", \"Default\", \"Default\", \"Default\", \"Default\", \"Default\", \"Default\", \"Default\", \"Default\", \"Default\", \"Default\", \"Default\", \"Default\", \"Default\", \"Default\", \"Default\", \"Default\", \"Default\", \"Default\", \"Default\", \"Topic1\", \"Topic1\", \"Topic1\", \"Topic1\", \"Topic1\", \"Topic1\", \"Topic1\", \"Topic1\", \"Topic1\", \"Topic1\", \"Topic1\", \"Topic1\", \"Topic1\", \"Topic1\", \"Topic1\", \"Topic1\", \"Topic1\", \"Topic1\", \"Topic1\", \"Topic1\", \"Topic1\", \"Topic1\", \"Topic1\", \"Topic1\", \"Topic1\", \"Topic1\", \"Topic1\", \"Topic1\", \"Topic1\", \"Topic1\", \"Topic2\", \"Topic2\", \"Topic2\", \"Topic2\", \"Topic2\", \"Topic2\", \"Topic2\", \"Topic2\", \"Topic2\", \"Topic2\", \"Topic2\", \"Topic2\", \"Topic2\", \"Topic2\", \"Topic2\", \"Topic2\", \"Topic2\", \"Topic2\", \"Topic2\", \"Topic2\", \"Topic2\", \"Topic2\", \"Topic2\", \"Topic2\", \"Topic2\", \"Topic2\", \"Topic2\", \"Topic2\", \"Topic2\", \"Topic2\", \"Topic2\", \"Topic2\", \"Topic2\", \"Topic2\", \"Topic2\", \"Topic2\", \"Topic2\", \"Topic2\", \"Topic2\", \"Topic2\", \"Topic2\", \"Topic2\", \"Topic3\", \"Topic3\", \"Topic3\", \"Topic3\", \"Topic3\", \"Topic3\", \"Topic3\", \"Topic3\", \"Topic3\", \"Topic3\", \"Topic3\", \"Topic3\", \"Topic3\", \"Topic3\", \"Topic3\", \"Topic3\", \"Topic3\", \"Topic3\", \"Topic3\", \"Topic3\", \"Topic3\", \"Topic3\", \"Topic3\", \"Topic3\", \"Topic3\", \"Topic3\", \"Topic3\", \"Topic3\", \"Topic3\", \"Topic3\", \"Topic3\", \"Topic3\", \"Topic3\", \"Topic3\", \"Topic3\", \"Topic3\", \"Topic3\", \"Topic3\", \"Topic3\", \"Topic3\", \"Topic3\", \"Topic3\"], \"logprob\": [30.0, 29.0, 28.0, 27.0, 26.0, 25.0, 24.0, 23.0, 22.0, 21.0, 20.0, 19.0, 18.0, 17.0, 16.0, 15.0, 14.0, 13.0, 12.0, 11.0, 10.0, 9.0, 8.0, 7.0, 6.0, 5.0, 4.0, 3.0, 2.0, 1.0, -4.2655, -4.2655, -4.6222, -4.6222, -4.6222, -4.6222, -4.6222, -4.6222, -4.6222, -4.6222, -4.6222, -4.6222, -4.6222, -4.6222, -4.6222, -4.6222, -4.6222, -4.6222, -4.6222, -4.6222, -4.6222, -4.6222, -4.6222, -4.6222, -4.6222, -4.6222, -5.1818, -5.1818, -5.1818, -5.1818, -4.5341, -4.5341, -4.5341, -4.5341, -4.5341, -4.5341, -4.5341, -4.5341, -4.5341, -4.5341, -4.5341, -4.5341, -4.5341, -4.5341, -4.5341, -5.0938, -5.0938, -5.0938, -5.0938, -5.0938, -5.0938, -5.0938, -5.0938, -5.0938, -5.0938, -5.0938, -5.0938, -5.0938, -5.0938, -5.0938, -5.0938, -5.0938, -5.0938, -5.0938, -5.0938, -5.0938, -5.0938, -5.0938, -5.0938, -5.0938, -5.0938, -5.0938, -4.2111, -4.2111, -4.2111, -4.7707, -4.7707, -4.7707, -4.7707, -4.7707, -4.7707, -4.7707, -4.7707, -4.7707, -4.7707, -4.7707, -4.7707, -4.7707, -4.7707, -4.7707, -4.7707, -4.7707, -4.7707, -4.7707, -4.7707, -4.7707, -4.7707, -4.7707, -4.7707, -4.7707, -4.7707, -4.7707, -4.7707, -4.7707, -4.7707, -4.7707, -4.7707, -4.7707, -4.7707, -4.7707, -4.7707, -4.7707, -4.7707, -4.7707], \"loglift\": [30.0, 29.0, 28.0, 27.0, 26.0, 25.0, 24.0, 23.0, 22.0, 21.0, 20.0, 19.0, 18.0, 17.0, 16.0, 15.0, 14.0, 13.0, 12.0, 11.0, 10.0, 9.0, 8.0, 7.0, 6.0, 5.0, 4.0, 3.0, 2.0, 1.0, 0.8103, 0.8103, 0.7352, 0.7352, 0.7352, 0.7352, 0.7352, 0.7352, 0.7352, 0.7352, 0.7352, 0.7352, 0.7352, 0.7352, 0.7352, 0.7352, 0.7352, 0.7352, 0.7352, 0.7352, 0.7352, 0.7352, 0.7352, 0.7352, 0.7352, 0.7352, 0.5689, 0.5689, 0.5689, 0.5689, 0.7712, 0.7712, 0.7712, 0.7712, 0.7712, 0.7712, 0.7712, 0.7712, 0.7712, 0.7712, 0.7712, 0.7712, 0.7712, 0.7712, 0.7712, 0.6181, 0.6181, 0.6181, 0.6181, 0.6181, 0.6181, 0.6181, 0.6181, 0.6181, 0.6181, 0.6181, 0.6181, 0.6181, 0.6181, 0.6181, 0.6181, 0.6181, 0.6181, 0.6181, 0.6181, 0.6181, 0.6181, 0.6181, 0.6181, 0.6181, 0.6181, 0.6181, 1.0568, 1.0568, 1.0568, 0.9129, 0.9129, 0.9129, 0.9129, 0.9129, 0.9129, 0.9129, 0.9129, 0.9129, 0.9129, 0.9129, 0.9129, 0.9129, 0.9129, 0.9129, 0.9129, 0.9129, 0.9129, 0.9129, 0.9129, 0.9129, 0.9129, 0.9129, 0.9129, 0.9129, 0.9129, 0.9129, 0.9129, 0.9129, 0.9129, 0.9129, 0.9129, 0.9129, 0.9129, 0.9129, 0.9129, 0.9129, 0.9129, 0.9129]}, \"token.table\": {\"Topic\": [], \"Freq\": [], \"Term\": []}, \"R\": 30, \"lambda.step\": 0.01, \"plot.opts\": {\"xlab\": \"PC1\", \"ylab\": \"PC2\"}, \"topic.order\": [1, 2, 3]};\n",
       "\n",
       "function LDAvis_load_lib(url, callback){\n",
       "  var s = document.createElement('script');\n",
       "  s.src = url;\n",
       "  s.async = true;\n",
       "  s.onreadystatechange = s.onload = callback;\n",
       "  s.onerror = function(){console.warn(\"failed to load library \" + url);};\n",
       "  document.getElementsByTagName(\"head\")[0].appendChild(s);\n",
       "}\n",
       "\n",
       "if(typeof(LDAvis) !== \"undefined\"){\n",
       "   // already loaded: just create the visualization\n",
       "   !function(LDAvis){\n",
       "       new LDAvis(\"#\" + \"ldavis_el130891402942991644964216785243\", ldavis_el130891402942991644964216785243_data);\n",
       "   }(LDAvis);\n",
       "}else if(typeof define === \"function\" && define.amd){\n",
       "   // require.js is available: use it to load d3/LDAvis\n",
       "   require.config({paths: {d3: \"https://cdnjs.cloudflare.com/ajax/libs/d3/3.5.5/d3.min\"}});\n",
       "   require([\"d3\"], function(d3){\n",
       "      window.d3 = d3;\n",
       "      LDAvis_load_lib(\"https://cdn.rawgit.com/bmabey/pyLDAvis/files/ldavis.v1.0.0.js\", function(){\n",
       "        new LDAvis(\"#\" + \"ldavis_el130891402942991644964216785243\", ldavis_el130891402942991644964216785243_data);\n",
       "      });\n",
       "    });\n",
       "}else{\n",
       "    // require.js not available: dynamically load d3 & LDAvis\n",
       "    LDAvis_load_lib(\"https://cdnjs.cloudflare.com/ajax/libs/d3/3.5.5/d3.min.js\", function(){\n",
       "         LDAvis_load_lib(\"https://cdn.rawgit.com/bmabey/pyLDAvis/files/ldavis.v1.0.0.js\", function(){\n",
       "                 new LDAvis(\"#\" + \"ldavis_el130891402942991644964216785243\", ldavis_el130891402942991644964216785243_data);\n",
       "            })\n",
       "         });\n",
       "}\n",
       "</script>"
      ],
      "text/plain": [
       "<IPython.core.display.HTML object>"
      ]
     },
     "execution_count": 9,
     "metadata": {},
     "output_type": "execute_result"
    }
   ],
   "source": [
    "lda_tfidf = pickle.load( open('../data/lda_tfidf.pk', \"rb\" ) )\n",
    "tfidf_vectorizer = pickle.load( open('../data/tfidf_vectorizer.pk', \"rb\" ) )\n",
    "dtm_tfidf = pickle.load( open('../data/dtm_tfidf.pk', \"rb\" ) )\n",
    "vis_data = sklearnvis.prepare(lda_tfidf, dtm_tfidf, tfidf_vectorizer)\n",
    "pyLDAvis.display(vis_data)"
   ]
  },
  {
   "cell_type": "code",
   "execution_count": 12,
   "metadata": {},
   "outputs": [
    {
     "name": "stdout",
     "output_type": "stream",
     "text": [
      "[[0.06693015 0.06695483 0.86611502]]\n",
      "[[0.83215849 0.08382391 0.08401761]]\n"
     ]
    }
   ],
   "source": [
    "def predict(sentence):\n",
    "    new_vector =tf_vectorizer.transform([sentence])\n",
    "    return lda_tf.transform(new_vector)\n",
    "print(predict(\"l'IRM des rochers de Mme Machin compressent son scanner\"))##categorie 3\n",
    "print(predict(\"Le nasacord qui dure une heure le matin est responsable des acouphenes diurnes\"))##categorie 1\n"
   ]
  },
  {
   "cell_type": "code",
   "execution_count": null,
   "metadata": {},
   "outputs": [],
   "source": []
  }
 ],
 "metadata": {
  "kernelspec": {
   "display_name": "Python 3",
   "language": "python",
   "name": "python3"
  },
  "language_info": {
   "codemirror_mode": {
    "name": "ipython",
    "version": 3
   },
   "file_extension": ".py",
   "mimetype": "text/x-python",
   "name": "python",
   "nbconvert_exporter": "python",
   "pygments_lexer": "ipython3",
   "version": "3.7.7"
  },
  "pycharm": {
   "stem_cell": {
    "cell_type": "raw",
    "metadata": {
     "collapsed": false
    },
    "source": []
   }
  }
 },
 "nbformat": 4,
 "nbformat_minor": 4
}
